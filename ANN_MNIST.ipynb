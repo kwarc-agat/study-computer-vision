{
  "nbformat": 4,
  "nbformat_minor": 0,
  "metadata": {
    "colab": {
      "name": "ANN MNIST.ipynb",
      "provenance": [],
      "collapsed_sections": [],
      "authorship_tag": "ABX9TyP1ziWBj3+tY99C85U45jNH"
    },
    "kernelspec": {
      "name": "python3",
      "display_name": "Python 3"
    },
    "language_info": {
      "name": "python"
    },
    "accelerator": "GPU"
  },
  "cells": [
    {
      "cell_type": "markdown",
      "source": [
        "Use simple neural network to recognize numbers from famous MNIST dataset\n",
        "\n",
        "Trying out the impact of Dropout layer for accuracy"
      ],
      "metadata": {
        "id": "JaFOzrtNMwCW"
      }
    },
    {
      "cell_type": "code",
      "execution_count": null,
      "metadata": {
        "id": "rdQInVaDyP8y"
      },
      "outputs": [],
      "source": [
        "import tensorflow as tf\n",
        "import matplotlib.pyplot as plt\n",
        "import seaborn as sns\n",
        "from sklearn.metrics import confusion_matrix\n",
        "import numpy as np"
      ]
    },
    {
      "cell_type": "code",
      "source": [
        "mnist = tf.keras.datasets.mnist\n",
        "(x_train, y_train), (x_test, y_test) = mnist.load_data()\n",
        "x_train, x_test = x_train / 255.0, x_test / 255.0\n",
        "print(\"x_train.shape: \", x_train.shape)"
      ],
      "metadata": {
        "colab": {
          "base_uri": "https://localhost:8080/"
        },
        "id": "giKjqrE5ycP9",
        "outputId": "a5299341-7d12-4dc8-87ab-6cf9b9d49f8a"
      },
      "execution_count": null,
      "outputs": [
        {
          "output_type": "stream",
          "name": "stdout",
          "text": [
            "Downloading data from https://storage.googleapis.com/tensorflow/tf-keras-datasets/mnist.npz\n",
            "11493376/11490434 [==============================] - 0s 0us/step\n",
            "11501568/11490434 [==============================] - 0s 0us/step\n",
            "x_train.shape:  (60000, 28, 28)\n"
          ]
        }
      ]
    },
    {
      "cell_type": "code",
      "source": [
        "model = tf.keras.Sequential([\n",
        "                             tf.keras.layers.Flatten(input_shape=(28,28)),  # the spatial information of the images' features is lost when flattened\n",
        "                                                                            # but no convolution is needed then \n",
        "                             tf.keras.layers.Dense(128, activation='relu'),\n",
        "                             tf.keras.layers.Dropout(0.2),\n",
        "                             tf.keras.layers.Dense(10, activation='softmax')\n",
        "])"
      ],
      "metadata": {
        "id": "UkRWuZUyyxLm"
      },
      "execution_count": null,
      "outputs": []
    },
    {
      "cell_type": "code",
      "source": [
        "model.compile(optimizer='adam',\n",
        "              loss='sparse_categorical_crossentropy',\n",
        "              metrics=['accuracy'])"
      ],
      "metadata": {
        "id": "OlwNo3d3zN9v"
      },
      "execution_count": null,
      "outputs": []
    },
    {
      "cell_type": "code",
      "source": [
        "r = model.fit(x_train, y_train, validation_data=(x_test, y_test), epochs=100)"
      ],
      "metadata": {
        "colab": {
          "base_uri": "https://localhost:8080/"
        },
        "id": "vkilyMH3zcFE",
        "outputId": "d403419e-dc0f-4f33-ec99-1cfd856149f3"
      },
      "execution_count": null,
      "outputs": [
        {
          "output_type": "stream",
          "name": "stdout",
          "text": [
            "Epoch 1/100\n",
            "1875/1875 [==============================] - 8s 3ms/step - loss: 0.2940 - accuracy: 0.9140 - val_loss: 0.1332 - val_accuracy: 0.9593\n",
            "Epoch 2/100\n",
            "1875/1875 [==============================] - 6s 3ms/step - loss: 0.1403 - accuracy: 0.9586 - val_loss: 0.0980 - val_accuracy: 0.9705\n",
            "Epoch 3/100\n",
            "1875/1875 [==============================] - 6s 3ms/step - loss: 0.1069 - accuracy: 0.9675 - val_loss: 0.0827 - val_accuracy: 0.9741\n",
            "Epoch 4/100\n",
            "1875/1875 [==============================] - 8s 4ms/step - loss: 0.0870 - accuracy: 0.9729 - val_loss: 0.0828 - val_accuracy: 0.9749\n",
            "Epoch 5/100\n",
            "1875/1875 [==============================] - 5s 3ms/step - loss: 0.0748 - accuracy: 0.9764 - val_loss: 0.0696 - val_accuracy: 0.9782\n",
            "Epoch 6/100\n",
            "1875/1875 [==============================] - 6s 3ms/step - loss: 0.0656 - accuracy: 0.9791 - val_loss: 0.0666 - val_accuracy: 0.9784\n",
            "Epoch 7/100\n",
            "1875/1875 [==============================] - 5s 3ms/step - loss: 0.0589 - accuracy: 0.9808 - val_loss: 0.0661 - val_accuracy: 0.9805\n",
            "Epoch 8/100\n",
            "1875/1875 [==============================] - 5s 3ms/step - loss: 0.0512 - accuracy: 0.9836 - val_loss: 0.0689 - val_accuracy: 0.9796\n",
            "Epoch 9/100\n",
            "1875/1875 [==============================] - 5s 2ms/step - loss: 0.0477 - accuracy: 0.9842 - val_loss: 0.0686 - val_accuracy: 0.9794\n",
            "Epoch 10/100\n",
            "1875/1875 [==============================] - 5s 2ms/step - loss: 0.0446 - accuracy: 0.9857 - val_loss: 0.0602 - val_accuracy: 0.9812\n",
            "Epoch 11/100\n",
            "1875/1875 [==============================] - 5s 2ms/step - loss: 0.0399 - accuracy: 0.9868 - val_loss: 0.0680 - val_accuracy: 0.9806\n",
            "Epoch 12/100\n",
            "1875/1875 [==============================] - 5s 2ms/step - loss: 0.0389 - accuracy: 0.9866 - val_loss: 0.0728 - val_accuracy: 0.9806\n",
            "Epoch 13/100\n",
            "1875/1875 [==============================] - 5s 2ms/step - loss: 0.0367 - accuracy: 0.9868 - val_loss: 0.0741 - val_accuracy: 0.9813\n",
            "Epoch 14/100\n",
            "1875/1875 [==============================] - 5s 3ms/step - loss: 0.0342 - accuracy: 0.9884 - val_loss: 0.0710 - val_accuracy: 0.9809\n",
            "Epoch 15/100\n",
            "1875/1875 [==============================] - 5s 3ms/step - loss: 0.0337 - accuracy: 0.9887 - val_loss: 0.0703 - val_accuracy: 0.9809\n",
            "Epoch 16/100\n",
            "1875/1875 [==============================] - 5s 3ms/step - loss: 0.0327 - accuracy: 0.9884 - val_loss: 0.0736 - val_accuracy: 0.9816\n",
            "Epoch 17/100\n",
            "1875/1875 [==============================] - 5s 2ms/step - loss: 0.0291 - accuracy: 0.9900 - val_loss: 0.0724 - val_accuracy: 0.9815\n",
            "Epoch 18/100\n",
            "1875/1875 [==============================] - 5s 2ms/step - loss: 0.0280 - accuracy: 0.9905 - val_loss: 0.0771 - val_accuracy: 0.9812\n",
            "Epoch 19/100\n",
            "1875/1875 [==============================] - 7s 4ms/step - loss: 0.0287 - accuracy: 0.9900 - val_loss: 0.0745 - val_accuracy: 0.9796\n",
            "Epoch 20/100\n",
            "1875/1875 [==============================] - 7s 4ms/step - loss: 0.0270 - accuracy: 0.9909 - val_loss: 0.0733 - val_accuracy: 0.9814\n",
            "Epoch 21/100\n",
            "1875/1875 [==============================] - 5s 3ms/step - loss: 0.0264 - accuracy: 0.9911 - val_loss: 0.0685 - val_accuracy: 0.9833\n",
            "Epoch 22/100\n",
            "1875/1875 [==============================] - 5s 3ms/step - loss: 0.0245 - accuracy: 0.9916 - val_loss: 0.0789 - val_accuracy: 0.9811\n",
            "Epoch 23/100\n",
            "1875/1875 [==============================] - 5s 2ms/step - loss: 0.0243 - accuracy: 0.9911 - val_loss: 0.0857 - val_accuracy: 0.9816\n",
            "Epoch 24/100\n",
            "1875/1875 [==============================] - 5s 2ms/step - loss: 0.0234 - accuracy: 0.9920 - val_loss: 0.0870 - val_accuracy: 0.9813\n",
            "Epoch 25/100\n",
            "1875/1875 [==============================] - 5s 3ms/step - loss: 0.0234 - accuracy: 0.9920 - val_loss: 0.0783 - val_accuracy: 0.9823\n",
            "Epoch 26/100\n",
            "1875/1875 [==============================] - 5s 3ms/step - loss: 0.0234 - accuracy: 0.9923 - val_loss: 0.0842 - val_accuracy: 0.9808\n",
            "Epoch 27/100\n",
            "1875/1875 [==============================] - 5s 2ms/step - loss: 0.0211 - accuracy: 0.9925 - val_loss: 0.0828 - val_accuracy: 0.9821\n",
            "Epoch 28/100\n",
            "1875/1875 [==============================] - 5s 2ms/step - loss: 0.0222 - accuracy: 0.9920 - val_loss: 0.0872 - val_accuracy: 0.9810\n",
            "Epoch 29/100\n",
            "1875/1875 [==============================] - 5s 2ms/step - loss: 0.0203 - accuracy: 0.9932 - val_loss: 0.0843 - val_accuracy: 0.9828\n",
            "Epoch 30/100\n",
            "1875/1875 [==============================] - 5s 2ms/step - loss: 0.0194 - accuracy: 0.9934 - val_loss: 0.0862 - val_accuracy: 0.9819\n",
            "Epoch 31/100\n",
            "1875/1875 [==============================] - 5s 2ms/step - loss: 0.0230 - accuracy: 0.9918 - val_loss: 0.0847 - val_accuracy: 0.9823\n",
            "Epoch 32/100\n",
            "1875/1875 [==============================] - 5s 2ms/step - loss: 0.0206 - accuracy: 0.9929 - val_loss: 0.0873 - val_accuracy: 0.9805\n",
            "Epoch 33/100\n",
            "1875/1875 [==============================] - 5s 3ms/step - loss: 0.0189 - accuracy: 0.9934 - val_loss: 0.0945 - val_accuracy: 0.9813\n",
            "Epoch 34/100\n",
            "1875/1875 [==============================] - 5s 2ms/step - loss: 0.0198 - accuracy: 0.9933 - val_loss: 0.0848 - val_accuracy: 0.9812\n",
            "Epoch 35/100\n",
            "1875/1875 [==============================] - 5s 2ms/step - loss: 0.0188 - accuracy: 0.9936 - val_loss: 0.0913 - val_accuracy: 0.9814\n",
            "Epoch 36/100\n",
            "1875/1875 [==============================] - 5s 2ms/step - loss: 0.0193 - accuracy: 0.9933 - val_loss: 0.0905 - val_accuracy: 0.9811\n",
            "Epoch 37/100\n",
            "1875/1875 [==============================] - 5s 2ms/step - loss: 0.0186 - accuracy: 0.9937 - val_loss: 0.0914 - val_accuracy: 0.9825\n",
            "Epoch 38/100\n",
            "1875/1875 [==============================] - 5s 3ms/step - loss: 0.0175 - accuracy: 0.9939 - val_loss: 0.1018 - val_accuracy: 0.9806\n",
            "Epoch 39/100\n",
            "1875/1875 [==============================] - 5s 3ms/step - loss: 0.0183 - accuracy: 0.9940 - val_loss: 0.0930 - val_accuracy: 0.9806\n",
            "Epoch 40/100\n",
            "1875/1875 [==============================] - 5s 3ms/step - loss: 0.0160 - accuracy: 0.9945 - val_loss: 0.1020 - val_accuracy: 0.9814\n",
            "Epoch 41/100\n",
            "1875/1875 [==============================] - 5s 2ms/step - loss: 0.0167 - accuracy: 0.9942 - val_loss: 0.0906 - val_accuracy: 0.9835\n",
            "Epoch 42/100\n",
            "1875/1875 [==============================] - 5s 3ms/step - loss: 0.0175 - accuracy: 0.9938 - val_loss: 0.1054 - val_accuracy: 0.9812\n",
            "Epoch 43/100\n",
            "1875/1875 [==============================] - 5s 2ms/step - loss: 0.0159 - accuracy: 0.9945 - val_loss: 0.0964 - val_accuracy: 0.9825\n",
            "Epoch 44/100\n",
            "1875/1875 [==============================] - 5s 3ms/step - loss: 0.0170 - accuracy: 0.9940 - val_loss: 0.1071 - val_accuracy: 0.9799\n",
            "Epoch 45/100\n",
            "1875/1875 [==============================] - 5s 2ms/step - loss: 0.0153 - accuracy: 0.9947 - val_loss: 0.1020 - val_accuracy: 0.9821\n",
            "Epoch 46/100\n",
            "1875/1875 [==============================] - 5s 2ms/step - loss: 0.0163 - accuracy: 0.9945 - val_loss: 0.0972 - val_accuracy: 0.9821\n",
            "Epoch 47/100\n",
            "1875/1875 [==============================] - 5s 3ms/step - loss: 0.0161 - accuracy: 0.9944 - val_loss: 0.0945 - val_accuracy: 0.9819\n",
            "Epoch 48/100\n",
            "1875/1875 [==============================] - 5s 2ms/step - loss: 0.0163 - accuracy: 0.9944 - val_loss: 0.0986 - val_accuracy: 0.9818\n",
            "Epoch 49/100\n",
            "1875/1875 [==============================] - 5s 2ms/step - loss: 0.0161 - accuracy: 0.9944 - val_loss: 0.0955 - val_accuracy: 0.9823\n",
            "Epoch 50/100\n",
            "1875/1875 [==============================] - 5s 2ms/step - loss: 0.0151 - accuracy: 0.9951 - val_loss: 0.1041 - val_accuracy: 0.9808\n",
            "Epoch 51/100\n",
            "1875/1875 [==============================] - 5s 2ms/step - loss: 0.0172 - accuracy: 0.9945 - val_loss: 0.1051 - val_accuracy: 0.9814\n",
            "Epoch 52/100\n",
            "1875/1875 [==============================] - 5s 2ms/step - loss: 0.0156 - accuracy: 0.9946 - val_loss: 0.1088 - val_accuracy: 0.9813\n",
            "Epoch 53/100\n",
            "1875/1875 [==============================] - 5s 2ms/step - loss: 0.0152 - accuracy: 0.9950 - val_loss: 0.1083 - val_accuracy: 0.9814\n",
            "Epoch 54/100\n",
            "1875/1875 [==============================] - 5s 3ms/step - loss: 0.0145 - accuracy: 0.9950 - val_loss: 0.1078 - val_accuracy: 0.9806\n",
            "Epoch 55/100\n",
            "1875/1875 [==============================] - 5s 3ms/step - loss: 0.0134 - accuracy: 0.9953 - val_loss: 0.1096 - val_accuracy: 0.9820\n",
            "Epoch 56/100\n",
            "1875/1875 [==============================] - 5s 3ms/step - loss: 0.0146 - accuracy: 0.9951 - val_loss: 0.1037 - val_accuracy: 0.9829\n",
            "Epoch 57/100\n",
            "1875/1875 [==============================] - 5s 2ms/step - loss: 0.0161 - accuracy: 0.9949 - val_loss: 0.1067 - val_accuracy: 0.9823\n",
            "Epoch 58/100\n",
            "1875/1875 [==============================] - 5s 2ms/step - loss: 0.0133 - accuracy: 0.9953 - val_loss: 0.1052 - val_accuracy: 0.9818\n",
            "Epoch 59/100\n",
            "1875/1875 [==============================] - 5s 2ms/step - loss: 0.0146 - accuracy: 0.9951 - val_loss: 0.1124 - val_accuracy: 0.9813\n",
            "Epoch 60/100\n",
            "1875/1875 [==============================] - 5s 2ms/step - loss: 0.0140 - accuracy: 0.9951 - val_loss: 0.1064 - val_accuracy: 0.9823\n",
            "Epoch 61/100\n",
            "1875/1875 [==============================] - 5s 2ms/step - loss: 0.0151 - accuracy: 0.9947 - val_loss: 0.1114 - val_accuracy: 0.9811\n",
            "Epoch 62/100\n",
            "1875/1875 [==============================] - 5s 2ms/step - loss: 0.0129 - accuracy: 0.9955 - val_loss: 0.1058 - val_accuracy: 0.9819\n",
            "Epoch 63/100\n",
            "1875/1875 [==============================] - 6s 3ms/step - loss: 0.0146 - accuracy: 0.9949 - val_loss: 0.1155 - val_accuracy: 0.9807\n",
            "Epoch 64/100\n",
            "1875/1875 [==============================] - 7s 4ms/step - loss: 0.0132 - accuracy: 0.9954 - val_loss: 0.1111 - val_accuracy: 0.9819\n",
            "Epoch 65/100\n",
            "1875/1875 [==============================] - 5s 3ms/step - loss: 0.0146 - accuracy: 0.9953 - val_loss: 0.1285 - val_accuracy: 0.9807\n",
            "Epoch 66/100\n",
            "1875/1875 [==============================] - 5s 3ms/step - loss: 0.0138 - accuracy: 0.9956 - val_loss: 0.1112 - val_accuracy: 0.9812\n",
            "Epoch 67/100\n",
            "1875/1875 [==============================] - 5s 3ms/step - loss: 0.0141 - accuracy: 0.9949 - val_loss: 0.1115 - val_accuracy: 0.9822\n",
            "Epoch 68/100\n",
            "1875/1875 [==============================] - 5s 2ms/step - loss: 0.0123 - accuracy: 0.9958 - val_loss: 0.1144 - val_accuracy: 0.9818\n",
            "Epoch 69/100\n",
            "1875/1875 [==============================] - 6s 3ms/step - loss: 0.0145 - accuracy: 0.9952 - val_loss: 0.1246 - val_accuracy: 0.9812\n",
            "Epoch 70/100\n",
            "1875/1875 [==============================] - 7s 3ms/step - loss: 0.0116 - accuracy: 0.9961 - val_loss: 0.1263 - val_accuracy: 0.9814\n",
            "Epoch 71/100\n",
            "1875/1875 [==============================] - 5s 3ms/step - loss: 0.0137 - accuracy: 0.9956 - val_loss: 0.1194 - val_accuracy: 0.9812\n",
            "Epoch 72/100\n",
            "1875/1875 [==============================] - 5s 3ms/step - loss: 0.0110 - accuracy: 0.9963 - val_loss: 0.1157 - val_accuracy: 0.9815\n",
            "Epoch 73/100\n",
            "1875/1875 [==============================] - 5s 3ms/step - loss: 0.0136 - accuracy: 0.9957 - val_loss: 0.1169 - val_accuracy: 0.9813\n",
            "Epoch 74/100\n",
            "1875/1875 [==============================] - 5s 2ms/step - loss: 0.0141 - accuracy: 0.9956 - val_loss: 0.1264 - val_accuracy: 0.9807\n",
            "Epoch 75/100\n",
            "1875/1875 [==============================] - 5s 3ms/step - loss: 0.0114 - accuracy: 0.9961 - val_loss: 0.1218 - val_accuracy: 0.9823\n",
            "Epoch 76/100\n",
            "1875/1875 [==============================] - 5s 3ms/step - loss: 0.0135 - accuracy: 0.9955 - val_loss: 0.1263 - val_accuracy: 0.9814\n",
            "Epoch 77/100\n",
            "1875/1875 [==============================] - 5s 2ms/step - loss: 0.0144 - accuracy: 0.9953 - val_loss: 0.1274 - val_accuracy: 0.9815\n",
            "Epoch 78/100\n",
            "1875/1875 [==============================] - 5s 3ms/step - loss: 0.0121 - accuracy: 0.9962 - val_loss: 0.1220 - val_accuracy: 0.9817\n",
            "Epoch 79/100\n",
            "1875/1875 [==============================] - 5s 3ms/step - loss: 0.0135 - accuracy: 0.9959 - val_loss: 0.1222 - val_accuracy: 0.9803\n",
            "Epoch 80/100\n",
            "1875/1875 [==============================] - 5s 2ms/step - loss: 0.0129 - accuracy: 0.9960 - val_loss: 0.1329 - val_accuracy: 0.9799\n",
            "Epoch 81/100\n",
            "1875/1875 [==============================] - 5s 3ms/step - loss: 0.0123 - accuracy: 0.9961 - val_loss: 0.1311 - val_accuracy: 0.9819\n",
            "Epoch 82/100\n",
            "1875/1875 [==============================] - 5s 2ms/step - loss: 0.0132 - accuracy: 0.9952 - val_loss: 0.1267 - val_accuracy: 0.9822\n",
            "Epoch 83/100\n",
            "1875/1875 [==============================] - 5s 2ms/step - loss: 0.0122 - accuracy: 0.9959 - val_loss: 0.1306 - val_accuracy: 0.9809\n",
            "Epoch 84/100\n",
            "1875/1875 [==============================] - 5s 3ms/step - loss: 0.0120 - accuracy: 0.9959 - val_loss: 0.1445 - val_accuracy: 0.9801\n",
            "Epoch 85/100\n",
            "1875/1875 [==============================] - 5s 3ms/step - loss: 0.0140 - accuracy: 0.9955 - val_loss: 0.1291 - val_accuracy: 0.9817\n",
            "Epoch 86/100\n",
            "1875/1875 [==============================] - 5s 2ms/step - loss: 0.0121 - accuracy: 0.9961 - val_loss: 0.1297 - val_accuracy: 0.9823\n",
            "Epoch 87/100\n",
            "1875/1875 [==============================] - 5s 2ms/step - loss: 0.0119 - accuracy: 0.9962 - val_loss: 0.1340 - val_accuracy: 0.9807\n",
            "Epoch 88/100\n",
            "1875/1875 [==============================] - 6s 3ms/step - loss: 0.0107 - accuracy: 0.9966 - val_loss: 0.1460 - val_accuracy: 0.9807\n",
            "Epoch 89/100\n",
            "1875/1875 [==============================] - 7s 4ms/step - loss: 0.0125 - accuracy: 0.9962 - val_loss: 0.1283 - val_accuracy: 0.9810\n",
            "Epoch 90/100\n",
            "1875/1875 [==============================] - 5s 3ms/step - loss: 0.0124 - accuracy: 0.9962 - val_loss: 0.1335 - val_accuracy: 0.9809\n",
            "Epoch 91/100\n",
            "1875/1875 [==============================] - 6s 3ms/step - loss: 0.0120 - accuracy: 0.9961 - val_loss: 0.1328 - val_accuracy: 0.9817\n",
            "Epoch 92/100\n",
            "1875/1875 [==============================] - 7s 4ms/step - loss: 0.0119 - accuracy: 0.9959 - val_loss: 0.1336 - val_accuracy: 0.9818\n",
            "Epoch 93/100\n",
            "1875/1875 [==============================] - 6s 3ms/step - loss: 0.0124 - accuracy: 0.9961 - val_loss: 0.1369 - val_accuracy: 0.9819\n",
            "Epoch 94/100\n",
            "1875/1875 [==============================] - 6s 3ms/step - loss: 0.0117 - accuracy: 0.9963 - val_loss: 0.1418 - val_accuracy: 0.9809\n",
            "Epoch 95/100\n",
            "1875/1875 [==============================] - 8s 4ms/step - loss: 0.0130 - accuracy: 0.9960 - val_loss: 0.1444 - val_accuracy: 0.9823\n",
            "Epoch 96/100\n",
            "1875/1875 [==============================] - 6s 3ms/step - loss: 0.0098 - accuracy: 0.9967 - val_loss: 0.1384 - val_accuracy: 0.9810\n",
            "Epoch 97/100\n",
            "1875/1875 [==============================] - 5s 3ms/step - loss: 0.0151 - accuracy: 0.9955 - val_loss: 0.1404 - val_accuracy: 0.9808\n",
            "Epoch 98/100\n",
            "1875/1875 [==============================] - 5s 2ms/step - loss: 0.0113 - accuracy: 0.9964 - val_loss: 0.1384 - val_accuracy: 0.9805\n",
            "Epoch 99/100\n",
            "1875/1875 [==============================] - 5s 3ms/step - loss: 0.0115 - accuracy: 0.9963 - val_loss: 0.1352 - val_accuracy: 0.9820\n",
            "Epoch 100/100\n",
            "1875/1875 [==============================] - 6s 3ms/step - loss: 0.0112 - accuracy: 0.9965 - val_loss: 0.1304 - val_accuracy: 0.9821\n"
          ]
        }
      ]
    },
    {
      "cell_type": "code",
      "source": [
        "plt.plot(r.history['loss'], label='loss')\n",
        "plt.plot(r.history['val_loss'], label='val_loss')\n",
        "plt.legend()"
      ],
      "metadata": {
        "colab": {
          "base_uri": "https://localhost:8080/",
          "height": 282
        },
        "id": "ctrebe8Az6lj",
        "outputId": "ed0e2b14-7e64-4dbf-fdc2-43cc640f1a77"
      },
      "execution_count": null,
      "outputs": [
        {
          "output_type": "execute_result",
          "data": {
            "text/plain": [
              "<matplotlib.legend.Legend at 0x7f6cf2057390>"
            ]
          },
          "metadata": {},
          "execution_count": 7
        },
        {
          "output_type": "display_data",
          "data": {
            "text/plain": [
              "<Figure size 432x288 with 1 Axes>"
            ],
            "image/png": "[encoded data removed]"
          },
          "metadata": {
            "needs_background": "light"
          }
        }
      ]
    },
    {
      "cell_type": "code",
      "source": [
        "plt.plot(r.history['accuracy'], label='acc')\n",
        "plt.plot(r.history['val_accuracy'], label='val_acc')\n",
        "plt.legend()"
      ],
      "metadata": {
        "colab": {
          "base_uri": "https://localhost:8080/",
          "height": 284
        },
        "id": "wT4NRsk10V6E",
        "outputId": "38aec8ab-51a2-4265-ac1e-5c932743c90f"
      },
      "execution_count": null,
      "outputs": [
        {
          "output_type": "execute_result",
          "data": {
            "text/plain": [
              "<matplotlib.legend.Legend at 0x7f6cde3ed910>"
            ]
          },
          "metadata": {},
          "execution_count": 8
        },
        {
          "output_type": "display_data",
          "data": {
            "text/plain": [
              "<Figure size 432x288 with 1 Axes>"
            ],
            "image/png": "[encoded data removed]"
          },
          "metadata": {
            "needs_background": "light"
          }
        }
      ]
    },
    {
      "cell_type": "code",
      "source": [
        "model.evaluate(x_test, y_test)"
      ],
      "metadata": {
        "colab": {
          "base_uri": "https://localhost:8080/"
        },
        "id": "S6thYX-H0gAZ",
        "outputId": "4c784dcd-8123-4a1d-e261-daf239e1ab75"
      },
      "execution_count": null,
      "outputs": [
        {
          "output_type": "stream",
          "name": "stdout",
          "text": [
            "313/313 [==============================] - 1s 2ms/step - loss: 0.1304 - accuracy: 0.9821\n"
          ]
        },
        {
          "output_type": "execute_result",
          "data": {
            "text/plain": [
              "[0.13042904436588287, 0.9821000099182129]"
            ]
          },
          "metadata": {},
          "execution_count": 6
        }
      ]
    },
    {
      "cell_type": "code",
      "source": [
        "p_test = model.predict(x_test).argmax(axis=1)\n",
        "cm = confusion_matrix(y_test, p_test)\n",
        "plt.figure(figsize = (10,10))\n",
        "sns.heatmap(cm, annot=True, cmap='Blues', fmt='g')"
      ],
      "metadata": {
        "colab": {
          "base_uri": "https://localhost:8080/",
          "height": 609
        },
        "id": "NDv_Vjr-0s0b",
        "outputId": "c248ccba-a9cd-486f-827f-f6ccc8c18e55"
      },
      "execution_count": null,
      "outputs": [
        {
          "output_type": "execute_result",
          "data": {
            "text/plain": [
              "<matplotlib.axes._subplots.AxesSubplot at 0x7f6cde586710>"
            ]
          },
          "metadata": {},
          "execution_count": 13
        },
        {
          "output_type": "display_data",
          "data": {
            "text/plain": [
              "<Figure size 720x720 with 2 Axes>"
            ],
            "image/png": "[encoded data removed]"
          },
          "metadata": {
            "needs_background": "light"
          }
        }
      ]
    },
    {
      "cell_type": "code",
      "source": [
        "misclassified_idx = np.where(p_test != y_test)[0]\n",
        "i = np.random.choice(misclassified_idx)\n",
        "plt.imshow(x_test[i], cmap='gray')\n",
        "plt.title(f\"True label {y_test[i]} Predicted: {p_test[i]}\")"
      ],
      "metadata": {
        "colab": {
          "base_uri": "https://localhost:8080/",
          "height": 298
        },
        "id": "Lnk9nAPf2mEa",
        "outputId": "7307c63b-91ff-409b-af55-c1c3e7657f95"
      },
      "execution_count": null,
      "outputs": [
        {
          "output_type": "execute_result",
          "data": {
            "text/plain": [
              "Text(0.5, 1.0, 'True label 2 Predicted: 7')"
            ]
          },
          "metadata": {},
          "execution_count": 17
        },
        {
          "output_type": "display_data",
          "data": {
            "text/plain": [
              "<Figure size 432x288 with 1 Axes>"
            ],
            "image/png": "[encoded data removed]"
          },
          "metadata": {
            "needs_background": "light"
          }
        }
      ]
    },
    {
      "cell_type": "code",
      "source": [
        ""
      ],
      "metadata": {
        "id": "11MXGjOb32k7"
      },
      "execution_count": null,
      "outputs": []
    }
  ]
}